{
  "nbformat": 4,
  "nbformat_minor": 0,
  "metadata": {
    "colab": {
      "name": "Hamoye.ipynb",
      "provenance": [],
      "authorship_tag": "ABX9TyPoQbzzw0HsLI7NtRQOGpCq",
      "include_colab_link": true
    },
    "kernelspec": {
      "name": "python3",
      "display_name": "Python 3"
    },
    "language_info": {
      "name": "python"
    }
  },
  "cells": [
    {
      "cell_type": "markdown",
      "metadata": {
        "id": "view-in-github",
        "colab_type": "text"
      },
      "source": [
        "<a href=\"https://colab.research.google.com/github/SSHREYA71/css-art-gallery/blob/main/Hamoye.ipynb\" target=\"_parent\"><img src=\"https://colab.research.google.com/assets/colab-badge.svg\" alt=\"Open In Colab\"/></a>"
      ]
    },
    {
      "cell_type": "markdown",
      "metadata": {
        "id": "BfTYuMF0LMpb"
      },
      "source": [
        "## 1. Import Libraries"
      ]
    },
    {
      "cell_type": "code",
      "metadata": {
        "id": "W5s_ShJpBo1W"
      },
      "source": [
        "import pandas as pd\n",
        "import numpy as np\n",
        "import matplotlib.pyplot as plt "
      ],
      "execution_count": null,
      "outputs": []
    },
    {
      "cell_type": "markdown",
      "metadata": {
        "id": "u6JroSd3LWNS"
      },
      "source": [
        "## 2. Import Dataset"
      ]
    },
    {
      "cell_type": "code",
      "metadata": {
        "id": "L2Qc8PT-BygL"
      },
      "source": [
        "url =\"https://raw.githubusercontent.com/WalePhenomenon/climate_change/master/fuel_ferc1.csv\"\n",
        "df = pd.read_csv(url,error_bad_lines = False)\n",
        "\n"
      ],
      "execution_count": null,
      "outputs": []
    },
    {
      "cell_type": "code",
      "metadata": {
        "colab": {
          "base_uri": "https://localhost:8080/"
        },
        "id": "QiPShMA2CPEV",
        "outputId": "f25b1a82-c934-497a-9eaf-0b1813f19198"
      },
      "source": [
        "df.head(3)\n",
        "print(df.shape)"
      ],
      "execution_count": null,
      "outputs": [
        {
          "output_type": "stream",
          "text": [
            "(29523, 11)\n"
          ],
          "name": "stdout"
        }
      ]
    },
    {
      "cell_type": "code",
      "metadata": {
        "colab": {
          "base_uri": "https://localhost:8080/",
          "height": 286
        },
        "id": "e1sWjJC5XG0X",
        "outputId": "4e5dd50d-b905-429d-ea1a-679528ae1a77"
      },
      "source": [
        "df.corr()"
      ],
      "execution_count": null,
      "outputs": [
        {
          "output_type": "execute_result",
          "data": {
            "text/html": [
              "<div>\n",
              "<style scoped>\n",
              "    .dataframe tbody tr th:only-of-type {\n",
              "        vertical-align: middle;\n",
              "    }\n",
              "\n",
              "    .dataframe tbody tr th {\n",
              "        vertical-align: top;\n",
              "    }\n",
              "\n",
              "    .dataframe thead th {\n",
              "        text-align: right;\n",
              "    }\n",
              "</style>\n",
              "<table border=\"1\" class=\"dataframe\">\n",
              "  <thead>\n",
              "    <tr style=\"text-align: right;\">\n",
              "      <th></th>\n",
              "      <th>utility_id_ferc1</th>\n",
              "      <th>report_year</th>\n",
              "      <th>fuel_qty_burned</th>\n",
              "      <th>fuel_mmbtu_per_unit</th>\n",
              "      <th>fuel_cost_per_unit_burned</th>\n",
              "      <th>fuel_cost_per_unit_delivered</th>\n",
              "      <th>fuel_cost_per_mmbtu</th>\n",
              "    </tr>\n",
              "  </thead>\n",
              "  <tbody>\n",
              "    <tr>\n",
              "      <th>utility_id_ferc1</th>\n",
              "      <td>1.000000</td>\n",
              "      <td>0.093323</td>\n",
              "      <td>-0.057447</td>\n",
              "      <td>-0.066946</td>\n",
              "      <td>-0.037863</td>\n",
              "      <td>-0.016414</td>\n",
              "      <td>0.006122</td>\n",
              "    </tr>\n",
              "    <tr>\n",
              "      <th>report_year</th>\n",
              "      <td>0.093323</td>\n",
              "      <td>1.000000</td>\n",
              "      <td>0.012952</td>\n",
              "      <td>-0.110853</td>\n",
              "      <td>0.013599</td>\n",
              "      <td>-0.014043</td>\n",
              "      <td>0.010261</td>\n",
              "    </tr>\n",
              "    <tr>\n",
              "      <th>fuel_qty_burned</th>\n",
              "      <td>-0.057447</td>\n",
              "      <td>0.012952</td>\n",
              "      <td>1.000000</td>\n",
              "      <td>-0.080946</td>\n",
              "      <td>-0.018535</td>\n",
              "      <td>-0.003551</td>\n",
              "      <td>-0.001896</td>\n",
              "    </tr>\n",
              "    <tr>\n",
              "      <th>fuel_mmbtu_per_unit</th>\n",
              "      <td>-0.066946</td>\n",
              "      <td>-0.110853</td>\n",
              "      <td>-0.080946</td>\n",
              "      <td>1.000000</td>\n",
              "      <td>-0.010034</td>\n",
              "      <td>-0.009039</td>\n",
              "      <td>-0.005884</td>\n",
              "    </tr>\n",
              "    <tr>\n",
              "      <th>fuel_cost_per_unit_burned</th>\n",
              "      <td>-0.037863</td>\n",
              "      <td>0.013599</td>\n",
              "      <td>-0.018535</td>\n",
              "      <td>-0.010034</td>\n",
              "      <td>1.000000</td>\n",
              "      <td>0.011007</td>\n",
              "      <td>-0.000437</td>\n",
              "    </tr>\n",
              "    <tr>\n",
              "      <th>fuel_cost_per_unit_delivered</th>\n",
              "      <td>-0.016414</td>\n",
              "      <td>-0.014043</td>\n",
              "      <td>-0.003551</td>\n",
              "      <td>-0.009039</td>\n",
              "      <td>0.011007</td>\n",
              "      <td>1.000000</td>\n",
              "      <td>-0.000109</td>\n",
              "    </tr>\n",
              "    <tr>\n",
              "      <th>fuel_cost_per_mmbtu</th>\n",
              "      <td>0.006122</td>\n",
              "      <td>0.010261</td>\n",
              "      <td>-0.001896</td>\n",
              "      <td>-0.005884</td>\n",
              "      <td>-0.000437</td>\n",
              "      <td>-0.000109</td>\n",
              "      <td>1.000000</td>\n",
              "    </tr>\n",
              "  </tbody>\n",
              "</table>\n",
              "</div>"
            ],
            "text/plain": [
              "                              utility_id_ferc1  report_year  fuel_qty_burned  fuel_mmbtu_per_unit  fuel_cost_per_unit_burned  fuel_cost_per_unit_delivered  fuel_cost_per_mmbtu\n",
              "utility_id_ferc1                      1.000000     0.093323        -0.057447            -0.066946                  -0.037863                     -0.016414             0.006122\n",
              "report_year                           0.093323     1.000000         0.012952            -0.110853                   0.013599                     -0.014043             0.010261\n",
              "fuel_qty_burned                      -0.057447     0.012952         1.000000            -0.080946                  -0.018535                     -0.003551            -0.001896\n",
              "fuel_mmbtu_per_unit                  -0.066946    -0.110853        -0.080946             1.000000                  -0.010034                     -0.009039            -0.005884\n",
              "fuel_cost_per_unit_burned            -0.037863     0.013599        -0.018535            -0.010034                   1.000000                      0.011007            -0.000437\n",
              "fuel_cost_per_unit_delivered         -0.016414    -0.014043        -0.003551            -0.009039                   0.011007                      1.000000            -0.000109\n",
              "fuel_cost_per_mmbtu                   0.006122     0.010261        -0.001896            -0.005884                  -0.000437                     -0.000109             1.000000"
            ]
          },
          "metadata": {
            "tags": []
          },
          "execution_count": 97
        }
      ]
    },
    {
      "cell_type": "code",
      "metadata": {
        "colab": {
          "base_uri": "https://localhost:8080/",
          "height": 297
        },
        "id": "CujNJLIcCWP-",
        "outputId": "a039c261-a401-4fb6-d2d5-9d71cba0a2d8"
      },
      "source": [
        "df.describe()"
      ],
      "execution_count": null,
      "outputs": [
        {
          "output_type": "execute_result",
          "data": {
            "text/html": [
              "<div>\n",
              "<style scoped>\n",
              "    .dataframe tbody tr th:only-of-type {\n",
              "        vertical-align: middle;\n",
              "    }\n",
              "\n",
              "    .dataframe tbody tr th {\n",
              "        vertical-align: top;\n",
              "    }\n",
              "\n",
              "    .dataframe thead th {\n",
              "        text-align: right;\n",
              "    }\n",
              "</style>\n",
              "<table border=\"1\" class=\"dataframe\">\n",
              "  <thead>\n",
              "    <tr style=\"text-align: right;\">\n",
              "      <th></th>\n",
              "      <th>utility_id_ferc1</th>\n",
              "      <th>report_year</th>\n",
              "      <th>fuel_qty_burned</th>\n",
              "      <th>fuel_mmbtu_per_unit</th>\n",
              "      <th>fuel_cost_per_unit_burned</th>\n",
              "      <th>fuel_cost_per_unit_delivered</th>\n",
              "      <th>fuel_cost_per_mmbtu</th>\n",
              "    </tr>\n",
              "  </thead>\n",
              "  <tbody>\n",
              "    <tr>\n",
              "      <th>count</th>\n",
              "      <td>29523.000000</td>\n",
              "      <td>29523.000000</td>\n",
              "      <td>2.952300e+04</td>\n",
              "      <td>29523.000000</td>\n",
              "      <td>29523.000000</td>\n",
              "      <td>2.952300e+04</td>\n",
              "      <td>29523.000000</td>\n",
              "    </tr>\n",
              "    <tr>\n",
              "      <th>mean</th>\n",
              "      <td>118.601836</td>\n",
              "      <td>2005.806050</td>\n",
              "      <td>2.622119e+06</td>\n",
              "      <td>8.492111</td>\n",
              "      <td>208.649031</td>\n",
              "      <td>9.175704e+02</td>\n",
              "      <td>19.304354</td>\n",
              "    </tr>\n",
              "    <tr>\n",
              "      <th>std</th>\n",
              "      <td>74.178353</td>\n",
              "      <td>7.025483</td>\n",
              "      <td>9.118004e+06</td>\n",
              "      <td>10.600220</td>\n",
              "      <td>2854.490090</td>\n",
              "      <td>6.877593e+04</td>\n",
              "      <td>2091.540939</td>\n",
              "    </tr>\n",
              "    <tr>\n",
              "      <th>min</th>\n",
              "      <td>1.000000</td>\n",
              "      <td>1994.000000</td>\n",
              "      <td>1.000000e+00</td>\n",
              "      <td>0.000001</td>\n",
              "      <td>-276.080000</td>\n",
              "      <td>-8.749370e+02</td>\n",
              "      <td>-41.501000</td>\n",
              "    </tr>\n",
              "    <tr>\n",
              "      <th>25%</th>\n",
              "      <td>55.000000</td>\n",
              "      <td>2000.000000</td>\n",
              "      <td>1.381700e+04</td>\n",
              "      <td>1.024000</td>\n",
              "      <td>5.207000</td>\n",
              "      <td>3.778500e+00</td>\n",
              "      <td>1.940000</td>\n",
              "    </tr>\n",
              "    <tr>\n",
              "      <th>50%</th>\n",
              "      <td>122.000000</td>\n",
              "      <td>2006.000000</td>\n",
              "      <td>2.533220e+05</td>\n",
              "      <td>5.762694</td>\n",
              "      <td>26.000000</td>\n",
              "      <td>1.737100e+01</td>\n",
              "      <td>4.127000</td>\n",
              "    </tr>\n",
              "    <tr>\n",
              "      <th>75%</th>\n",
              "      <td>176.000000</td>\n",
              "      <td>2012.000000</td>\n",
              "      <td>1.424034e+06</td>\n",
              "      <td>17.006000</td>\n",
              "      <td>47.113000</td>\n",
              "      <td>4.213700e+01</td>\n",
              "      <td>7.745000</td>\n",
              "    </tr>\n",
              "    <tr>\n",
              "      <th>max</th>\n",
              "      <td>514.000000</td>\n",
              "      <td>2018.000000</td>\n",
              "      <td>5.558942e+08</td>\n",
              "      <td>341.260000</td>\n",
              "      <td>139358.000000</td>\n",
              "      <td>7.964521e+06</td>\n",
              "      <td>359278.000000</td>\n",
              "    </tr>\n",
              "  </tbody>\n",
              "</table>\n",
              "</div>"
            ],
            "text/plain": [
              "       utility_id_ferc1   report_year  fuel_qty_burned  fuel_mmbtu_per_unit  fuel_cost_per_unit_burned  fuel_cost_per_unit_delivered  fuel_cost_per_mmbtu\n",
              "count      29523.000000  29523.000000     2.952300e+04         29523.000000               29523.000000                  2.952300e+04         29523.000000\n",
              "mean         118.601836   2005.806050     2.622119e+06             8.492111                 208.649031                  9.175704e+02            19.304354\n",
              "std           74.178353      7.025483     9.118004e+06            10.600220                2854.490090                  6.877593e+04          2091.540939\n",
              "min            1.000000   1994.000000     1.000000e+00             0.000001                -276.080000                 -8.749370e+02           -41.501000\n",
              "25%           55.000000   2000.000000     1.381700e+04             1.024000                   5.207000                  3.778500e+00             1.940000\n",
              "50%          122.000000   2006.000000     2.533220e+05             5.762694                  26.000000                  1.737100e+01             4.127000\n",
              "75%          176.000000   2012.000000     1.424034e+06            17.006000                  47.113000                  4.213700e+01             7.745000\n",
              "max          514.000000   2018.000000     5.558942e+08           341.260000              139358.000000                  7.964521e+06        359278.000000"
            ]
          },
          "metadata": {
            "tags": []
          },
          "execution_count": 98
        }
      ]
    },
    {
      "cell_type": "code",
      "metadata": {
        "colab": {
          "base_uri": "https://localhost:8080/"
        },
        "id": "YWzBS9VnCaGB",
        "outputId": "47421152-10e0-4020-8963-e069e5a9583e"
      },
      "source": [
        "df.isnull().sum()"
      ],
      "execution_count": null,
      "outputs": [
        {
          "output_type": "execute_result",
          "data": {
            "text/plain": [
              "record_id                         0\n",
              "utility_id_ferc1                  0\n",
              "report_year                       0\n",
              "plant_name_ferc1                  0\n",
              "fuel_type_code_pudl               0\n",
              "fuel_unit                       180\n",
              "fuel_qty_burned                   0\n",
              "fuel_mmbtu_per_unit               0\n",
              "fuel_cost_per_unit_burned         0\n",
              "fuel_cost_per_unit_delivered      0\n",
              "fuel_cost_per_mmbtu               0\n",
              "dtype: int64"
            ]
          },
          "metadata": {
            "tags": []
          },
          "execution_count": 99
        }
      ]
    },
    {
      "cell_type": "code",
      "metadata": {
        "colab": {
          "base_uri": "https://localhost:8080/"
        },
        "id": "k6kimUuwNTjI",
        "outputId": "b9aa1556-06be-4c91-9a57-7d0d8bb71d8c"
      },
      "source": [
        "df.info()"
      ],
      "execution_count": null,
      "outputs": [
        {
          "output_type": "stream",
          "text": [
            "<class 'pandas.core.frame.DataFrame'>\n",
            "RangeIndex: 29523 entries, 0 to 29522\n",
            "Data columns (total 11 columns):\n",
            " #   Column                        Non-Null Count  Dtype  \n",
            "---  ------                        --------------  -----  \n",
            " 0   record_id                     29523 non-null  object \n",
            " 1   utility_id_ferc1              29523 non-null  int64  \n",
            " 2   report_year                   29523 non-null  int64  \n",
            " 3   plant_name_ferc1              29523 non-null  object \n",
            " 4   fuel_type_code_pudl           29523 non-null  object \n",
            " 5   fuel_unit                     29343 non-null  object \n",
            " 6   fuel_qty_burned               29523 non-null  float64\n",
            " 7   fuel_mmbtu_per_unit           29523 non-null  float64\n",
            " 8   fuel_cost_per_unit_burned     29523 non-null  float64\n",
            " 9   fuel_cost_per_unit_delivered  29523 non-null  float64\n",
            " 10  fuel_cost_per_mmbtu           29523 non-null  float64\n",
            "dtypes: float64(5), int64(2), object(4)\n",
            "memory usage: 2.5+ MB\n"
          ],
          "name": "stdout"
        }
      ]
    },
    {
      "cell_type": "code",
      "metadata": {
        "colab": {
          "base_uri": "https://localhost:8080/"
        },
        "id": "6BRoz4M9Cev7",
        "outputId": "c2497fcc-3545-401f-ba40-0cf144cb33f7"
      },
      "source": [
        "df.nunique()"
      ],
      "execution_count": null,
      "outputs": [
        {
          "output_type": "execute_result",
          "data": {
            "text/plain": [
              "record_id                       29523\n",
              "utility_id_ferc1                  185\n",
              "report_year                        25\n",
              "plant_name_ferc1                 2315\n",
              "fuel_type_code_pudl                 6\n",
              "fuel_unit                           9\n",
              "fuel_qty_burned                 26432\n",
              "fuel_mmbtu_per_unit             11227\n",
              "fuel_cost_per_unit_burned       19416\n",
              "fuel_cost_per_unit_delivered    16675\n",
              "fuel_cost_per_mmbtu             12605\n",
              "dtype: int64"
            ]
          },
          "metadata": {
            "tags": []
          },
          "execution_count": 101
        }
      ]
    },
    {
      "cell_type": "code",
      "metadata": {
        "colab": {
          "base_uri": "https://localhost:8080/",
          "height": 162
        },
        "id": "z46VRHuYCnnj",
        "outputId": "3184c8e7-5736-46a0-ba87-83e851549670"
      },
      "source": [
        "df.dropna().head(3)"
      ],
      "execution_count": null,
      "outputs": [
        {
          "output_type": "execute_result",
          "data": {
            "text/html": [
              "<div>\n",
              "<style scoped>\n",
              "    .dataframe tbody tr th:only-of-type {\n",
              "        vertical-align: middle;\n",
              "    }\n",
              "\n",
              "    .dataframe tbody tr th {\n",
              "        vertical-align: top;\n",
              "    }\n",
              "\n",
              "    .dataframe thead th {\n",
              "        text-align: right;\n",
              "    }\n",
              "</style>\n",
              "<table border=\"1\" class=\"dataframe\">\n",
              "  <thead>\n",
              "    <tr style=\"text-align: right;\">\n",
              "      <th></th>\n",
              "      <th>record_id</th>\n",
              "      <th>utility_id_ferc1</th>\n",
              "      <th>report_year</th>\n",
              "      <th>plant_name_ferc1</th>\n",
              "      <th>fuel_type_code_pudl</th>\n",
              "      <th>fuel_unit</th>\n",
              "      <th>fuel_qty_burned</th>\n",
              "      <th>fuel_mmbtu_per_unit</th>\n",
              "      <th>fuel_cost_per_unit_burned</th>\n",
              "      <th>fuel_cost_per_unit_delivered</th>\n",
              "      <th>fuel_cost_per_mmbtu</th>\n",
              "    </tr>\n",
              "  </thead>\n",
              "  <tbody>\n",
              "    <tr>\n",
              "      <th>0</th>\n",
              "      <td>f1_fuel_1994_12_1_0_7</td>\n",
              "      <td>1</td>\n",
              "      <td>1994</td>\n",
              "      <td>rockport</td>\n",
              "      <td>coal</td>\n",
              "      <td>ton</td>\n",
              "      <td>5377489.0</td>\n",
              "      <td>16.590</td>\n",
              "      <td>18.59</td>\n",
              "      <td>18.53</td>\n",
              "      <td>1.121</td>\n",
              "    </tr>\n",
              "    <tr>\n",
              "      <th>1</th>\n",
              "      <td>f1_fuel_1994_12_1_0_10</td>\n",
              "      <td>1</td>\n",
              "      <td>1994</td>\n",
              "      <td>rockport total plant</td>\n",
              "      <td>coal</td>\n",
              "      <td>ton</td>\n",
              "      <td>10486945.0</td>\n",
              "      <td>16.592</td>\n",
              "      <td>18.58</td>\n",
              "      <td>18.53</td>\n",
              "      <td>1.120</td>\n",
              "    </tr>\n",
              "    <tr>\n",
              "      <th>2</th>\n",
              "      <td>f1_fuel_1994_12_2_0_1</td>\n",
              "      <td>2</td>\n",
              "      <td>1994</td>\n",
              "      <td>gorgas</td>\n",
              "      <td>coal</td>\n",
              "      <td>ton</td>\n",
              "      <td>2978683.0</td>\n",
              "      <td>24.130</td>\n",
              "      <td>39.72</td>\n",
              "      <td>38.12</td>\n",
              "      <td>1.650</td>\n",
              "    </tr>\n",
              "  </tbody>\n",
              "</table>\n",
              "</div>"
            ],
            "text/plain": [
              "                record_id  utility_id_ferc1  report_year      plant_name_ferc1 fuel_type_code_pudl fuel_unit  fuel_qty_burned  fuel_mmbtu_per_unit  fuel_cost_per_unit_burned  fuel_cost_per_unit_delivered  fuel_cost_per_mmbtu\n",
              "0   f1_fuel_1994_12_1_0_7                 1         1994              rockport                coal       ton        5377489.0               16.590                      18.59                         18.53                1.121\n",
              "1  f1_fuel_1994_12_1_0_10                 1         1994  rockport total plant                coal       ton       10486945.0               16.592                      18.58                         18.53                1.120\n",
              "2   f1_fuel_1994_12_2_0_1                 2         1994                gorgas                coal       ton        2978683.0               24.130                      39.72                         38.12                1.650"
            ]
          },
          "metadata": {
            "tags": []
          },
          "execution_count": 102
        }
      ]
    },
    {
      "cell_type": "code",
      "metadata": {
        "colab": {
          "base_uri": "https://localhost:8080/"
        },
        "id": "bKkqZDr3Vq06",
        "outputId": "451a582d-53a6-4520-e115-911caaefa4ed"
      },
      "source": [
        "df.skew()"
      ],
      "execution_count": null,
      "outputs": [
        {
          "output_type": "execute_result",
          "data": {
            "text/plain": [
              "utility_id_ferc1                  0.605070\n",
              "report_year                       0.006953\n",
              "fuel_qty_burned                  15.851495\n",
              "fuel_mmbtu_per_unit               4.135217\n",
              "fuel_cost_per_unit_burned        19.787440\n",
              "fuel_cost_per_unit_delivered    105.014227\n",
              "fuel_cost_per_mmbtu             171.675535\n",
              "dtype: float64"
            ]
          },
          "metadata": {
            "tags": []
          },
          "execution_count": 103
        }
      ]
    },
    {
      "cell_type": "code",
      "metadata": {
        "colab": {
          "base_uri": "https://localhost:8080/"
        },
        "id": "XNAfHfEPVuJe",
        "outputId": "75471a97-9fed-4654-8247-8e4ec7ef64cc"
      },
      "source": [
        "df.kurt()"
      ],
      "execution_count": null,
      "outputs": [
        {
          "output_type": "execute_result",
          "data": {
            "text/plain": [
              "utility_id_ferc1                    1.088432\n",
              "report_year                        -1.145656\n",
              "fuel_qty_burned                   651.369450\n",
              "fuel_mmbtu_per_unit                55.595695\n",
              "fuel_cost_per_unit_burned         485.255851\n",
              "fuel_cost_per_unit_delivered    11765.054226\n",
              "fuel_cost_per_mmbtu             29489.132594\n",
              "dtype: float64"
            ]
          },
          "metadata": {
            "tags": []
          },
          "execution_count": 104
        }
      ]
    },
    {
      "cell_type": "code",
      "metadata": {
        "id": "yoz8lwpPPp2O"
      },
      "source": [
        "#fig = plt.figure(figsize =(10, 7))\t\n",
        "#plt.bar(df[\"fuel_cost_per_unit_burned\"].mean(),df['fuel_type_code_pudl'])"
      ],
      "execution_count": null,
      "outputs": []
    },
    {
      "cell_type": "code",
      "metadata": {
        "id": "coJ9RuwnPpk3"
      },
      "source": [
        "#fig = plt.figure(figsize =(10, 7))\n",
        "#plt.bar(df['report_year'],df[\"fuel_cost_per_unit_delivered\"].mean())"
      ],
      "execution_count": null,
      "outputs": []
    },
    {
      "cell_type": "code",
      "metadata": {
        "colab": {
          "base_uri": "https://localhost:8080/"
        },
        "id": "1Ow-EPc5awAC",
        "outputId": "e5222656-2ac3-4561-d142-cbf35a0f780a"
      },
      "source": [
        "df[\"fuel_cost_per_unit_delivered\"].groupby(by=df['report_year']).mean()"
      ],
      "execution_count": null,
      "outputs": [
        {
          "output_type": "execute_result",
          "data": {
            "text/plain": [
              "report_year\n",
              "1994       63.636060\n",
              "1995       32.735269\n",
              "1996     9196.705948\n",
              "1997    11140.197239\n",
              "1998      287.154420\n",
              "1999       25.551627\n",
              "2000      985.362877\n",
              "2001       60.050396\n",
              "2002       47.594361\n",
              "2003       55.663493\n",
              "2004      139.524275\n",
              "2005       41.438184\n",
              "2006       38.657484\n",
              "2007       43.325023\n",
              "2008       58.588197\n",
              "2009      652.694163\n",
              "2010       91.862105\n",
              "2011       59.774667\n",
              "2012       60.994502\n",
              "2013      172.307591\n",
              "2014      192.737183\n",
              "2015      326.535511\n",
              "2016      103.901761\n",
              "2017       46.196861\n",
              "2018      499.269966\n",
              "Name: fuel_cost_per_unit_delivered, dtype: float64"
            ]
          },
          "metadata": {
            "tags": []
          },
          "execution_count": 107
        }
      ]
    },
    {
      "cell_type": "code",
      "metadata": {
        "colab": {
          "base_uri": "https://localhost:8080/"
        },
        "id": "5TCgtnI6aeTL",
        "outputId": "c5287d62-aa03-429f-db3b-64a5e4dd0cb7"
      },
      "source": [
        "pd.set_option('display.max_rows', 500)\n",
        "df[\"fuel_cost_per_unit_burned\"].groupby(by=df['fuel_type_code_pudl']).mean()"
      ],
      "execution_count": null,
      "outputs": [
        {
          "output_type": "execute_result",
          "data": {
            "text/plain": [
              "fuel_type_code_pudl\n",
              "coal         67.421830\n",
              "gas          13.659397\n",
              "nuclear    4955.157002\n",
              "oil         168.877086\n",
              "other        18.253856\n",
              "waste        19.518122\n",
              "Name: fuel_cost_per_unit_burned, dtype: float64"
            ]
          },
          "metadata": {
            "tags": []
          },
          "execution_count": 110
        }
      ]
    },
    {
      "cell_type": "code",
      "metadata": {
        "colab": {
          "base_uri": "https://localhost:8080/"
        },
        "id": "ObFFaWzrY50Y",
        "outputId": "4722b548-7ddd-4a49-a605-c3b514b25c3f"
      },
      "source": [
        "pd.set_option(\"display.max_rows\", 500)\n",
        "df[\"fuel_cost_per_unit_burned\"].groupby(by=[df['report_year'],df['fuel_type_code_pudl']] ).sum()\n"
      ],
      "execution_count": null,
      "outputs": [
        {
          "output_type": "execute_result",
          "data": {
            "text/plain": [
              "report_year  fuel_type_code_pudl\n",
              "1994         coal                    14984.572\n",
              "             gas                     10792.496\n",
              "             nuclear                227983.354\n",
              "             oil                      9362.194\n",
              "             other                     116.737\n",
              "             waste                      52.762\n",
              "1995         coal                    14571.785\n",
              "             gas                      9087.905\n",
              "             nuclear                384152.639\n",
              "             oil                     17858.281\n",
              "             other                     183.577\n",
              "             waste                    -192.699\n",
              "1996         coal                    12694.803\n",
              "             gas                      1467.390\n",
              "             nuclear                 66657.887\n",
              "             oil                      5357.028\n",
              "             other                     160.075\n",
              "             waste                      88.092\n",
              "1997         coal                    43742.178\n",
              "             gas                      1518.471\n",
              "             nuclear                112593.911\n",
              "             oil                      5387.536\n",
              "             other                     153.923\n",
              "             waste                     137.433\n",
              "1998         coal                    11902.597\n",
              "             gas                      7475.596\n",
              "             nuclear                117788.269\n",
              "             oil                      2608.657\n",
              "             other                     225.428\n",
              "             waste                     238.109\n",
              "1999         coal                    16303.468\n",
              "             gas                     16767.895\n",
              "             nuclear                 62915.808\n",
              "             oil                     29654.510\n",
              "             other                     271.579\n",
              "             waste                     143.025\n",
              "2000         coal                   100428.831\n",
              "             gas                     10024.878\n",
              "             nuclear                112375.382\n",
              "             oil                    104055.470\n",
              "             other                     100.014\n",
              "             waste                    -489.141\n",
              "2001         coal                    15109.012\n",
              "             gas                     10360.348\n",
              "             nuclear                 59292.078\n",
              "             oil                     95315.421\n",
              "             other                      71.283\n",
              "             waste                     217.499\n",
              "2002         coal                     9171.164\n",
              "             gas                      3584.279\n",
              "             nuclear                 59958.884\n",
              "             oil                     48956.627\n",
              "             other                      -4.257\n",
              "             waste                     254.438\n",
              "2003         coal                    30954.110\n",
              "             gas                      7170.143\n",
              "             nuclear                 59591.536\n",
              "             oil                     51349.250\n",
              "             other                     -51.286\n",
              "             waste                     161.973\n",
              "2004         coal                     9632.063\n",
              "             gas                      5019.023\n",
              "             nuclear                 61870.002\n",
              "             oil                    107669.303\n",
              "             other                     174.796\n",
              "             waste                     272.512\n",
              "2005         coal                    11107.182\n",
              "             gas                      3833.652\n",
              "             nuclear                 94192.368\n",
              "             oil                     26401.284\n",
              "             other                      76.196\n",
              "             waste                     313.457\n",
              "2006         coal                    12402.684\n",
              "             gas                      3598.417\n",
              "             nuclear                141240.473\n",
              "             oil                     30285.707\n",
              "             other                     190.904\n",
              "             waste                     423.847\n",
              "2007         coal                    12965.171\n",
              "             gas                      3867.366\n",
              "             nuclear                154945.333\n",
              "             oil                     83766.316\n",
              "             other                     143.112\n",
              "             waste                     427.014\n",
              "2008         coal                    14331.348\n",
              "             gas                     16087.669\n",
              "             nuclear                226552.820\n",
              "             oil                     56654.223\n",
              "             other                     211.940\n",
              "             waste                     474.022\n",
              "2009         coal                    45554.858\n",
              "             gas                     11193.089\n",
              "             nuclear                172823.881\n",
              "             oil                     33068.327\n",
              "             other                     204.527\n",
              "             waste                     739.884\n",
              "2010         coal                    88627.745\n",
              "             gas                      4240.494\n",
              "             nuclear                202133.032\n",
              "             oil                     35503.392\n",
              "             other                     321.647\n",
              "             waste                     755.157\n",
              "2011         coal                    17001.015\n",
              "             gas                      3264.968\n",
              "             nuclear                229824.926\n",
              "             oil                    123477.065\n",
              "             other                      89.717\n",
              "             waste                     517.912\n",
              "2012         coal                    17546.097\n",
              "             gas                      3420.876\n",
              "             nuclear                240648.791\n",
              "             oil                     59263.866\n",
              "             other                     224.123\n",
              "             waste                     589.791\n",
              "2013         coal                    17629.860\n",
              "             gas                      2982.281\n",
              "             nuclear                243192.226\n",
              "             oil                     42336.964\n",
              "             other                     182.494\n",
              "             waste                     609.411\n",
              "2014         coal                    15412.197\n",
              "             gas                      4169.285\n",
              "             nuclear                229158.129\n",
              "             oil                    268670.603\n",
              "             other                       0.661\n",
              "             waste                     591.594\n",
              "2015         coal                    13338.235\n",
              "             gas                      6224.304\n",
              "             nuclear                208830.486\n",
              "             oil                     31038.094\n",
              "             other                       0.595\n",
              "             waste                     629.270\n",
              "2016         coal                    11100.925\n",
              "             gas                      1994.266\n",
              "             nuclear                213837.559\n",
              "             oil                     28012.376\n",
              "             other                       0.609\n",
              "             waste                     539.079\n",
              "2017         coal                    10254.284\n",
              "             gas                      4424.244\n",
              "             nuclear                197491.493\n",
              "             oil                     31935.723\n",
              "             waste                     452.079\n",
              "2018         coal                     9488.197\n",
              "             gas                      4322.494\n",
              "             nuclear                173267.161\n",
              "             oil                     33836.602\n",
              "             waste                     660.972\n",
              "Name: fuel_cost_per_unit_burned, dtype: float64"
            ]
          },
          "metadata": {
            "tags": []
          },
          "execution_count": 111
        }
      ]
    }
  ]
}